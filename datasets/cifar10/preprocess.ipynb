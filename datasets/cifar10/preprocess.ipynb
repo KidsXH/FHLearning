{
 "cells": [
  {
   "cell_type": "code",
   "execution_count": 1,
   "metadata": {
    "collapsed": true,
    "pycharm": {
     "name": "#%%\n"
    }
   },
   "outputs": [],
   "source": [
    "import os\n",
    "import numpy as np\n",
    "import torchvision\n",
    "from PIL import Image\n",
    "\n",
    "import settings"
   ]
  },
  {
   "cell_type": "markdown",
   "source": [
    "## Load Dataset"
   ],
   "metadata": {
    "collapsed": false,
    "pycharm": {
     "name": "#%% md\n"
    }
   }
  },
  {
   "cell_type": "code",
   "execution_count": 2,
   "outputs": [
    {
     "name": "stdout",
     "output_type": "stream",
     "text": [
      "Files already downloaded and verified\n",
      "Files already downloaded and verified\n"
     ]
    }
   ],
   "source": [
    "root = settings.DATA_HOME['CIFAR10']\n",
    "train_dataset = torchvision.datasets.CIFAR10(root=root, train=True, download=True)\n",
    "test_dataset = torchvision.datasets.CIFAR10(root=root, train=False, download=True)"
   ],
   "metadata": {
    "collapsed": false,
    "pycharm": {
     "name": "#%%\n"
    }
   }
  },
  {
   "cell_type": "markdown",
   "source": [
    "## Merge Dataset"
   ],
   "metadata": {
    "collapsed": false
   }
  },
  {
   "cell_type": "code",
   "execution_count": 3,
   "outputs": [
    {
     "data": {
      "text/plain": "((60000,), (60000,))"
     },
     "execution_count": 3,
     "metadata": {},
     "output_type": "execute_result"
    }
   ],
   "source": [
    "all_data = []\n",
    "all_labels = []\n",
    "for PIL_image, label in train_dataset:\n",
    "    # image = np.transpose(PIL_image, (2, 0, 1))\n",
    "    all_data.append(PIL_image)\n",
    "    all_labels.append(label)\n",
    "\n",
    "for PIL_image, label in test_dataset:\n",
    "    # image = np.transpose(PIL_image, (2, 0, 1))\n",
    "    all_data.append(PIL_image)\n",
    "    all_labels.append(label)\n",
    "\n",
    "all_data = np.array(all_data, dtype=Image.Image)\n",
    "all_labels = np.array(all_labels, dtype=np.long)\n",
    "\n",
    "all_data.shape, all_labels.shape"
   ],
   "metadata": {
    "collapsed": false,
    "pycharm": {
     "name": "#%%\n"
    }
   }
  },
  {
   "cell_type": "markdown",
   "source": [
    "## Divide data"
   ],
   "metadata": {
    "collapsed": false
   }
  },
  {
   "cell_type": "code",
   "execution_count": 4,
   "outputs": [
    {
     "data": {
      "text/plain": "((10, 6000),\n array([0, 1, 2, 3, 4, 5, 6, 7, 8, 9]),\n array([1, 2, 3, 4, 5, 6, 7, 8, 9, 0]))"
     },
     "execution_count": 4,
     "metadata": {},
     "output_type": "execute_result"
    }
   ],
   "source": [
    "n_classes = np.unique(all_labels).shape[0]\n",
    "classified_data = [all_data[all_labels == i] for i in range(n_classes)]\n",
    "classified_data = np.array(classified_data, dtype=Image.Image)\n",
    "\n",
    "n_clients = 10\n",
    "clients = ['Client-{}'.format(i) for i in range(n_clients)]\n",
    "\n",
    "label_seq_0 = np.arange(0, 10, 1)\n",
    "label_seq_1 = np.concatenate([np.arange(1, 10, 1), [0]])\n",
    "classified_data.shape, label_seq_0, label_seq_1"
   ],
   "metadata": {
    "collapsed": false,
    "pycharm": {
     "name": "#%%\n"
    }
   }
  },
  {
   "cell_type": "code",
   "execution_count": 11,
   "outputs": [
    {
     "name": "stdout",
     "output_type": "stream",
     "text": [
      "(10, 6000, 3, 32, 32)\n"
     ]
    }
   ],
   "source": [
    "client_data = []\n",
    "client_labels = []\n",
    "\n",
    "for client_name, label_0, label_1 in zip(clients, label_seq_0, label_seq_1):\n",
    "    data = np.concatenate([classified_data[label_0][:3000], classified_data[label_1][3000:]])\n",
    "    labels = np.array([label_0] * 3000 + [label_1] * 3000)\n",
    "\n",
    "    np.savez_compressed(os.path.join(root, '{}_dataset'.format(client_name)), data=data, labels=labels)\n",
    "\n",
    "    client_data.append([np.transpose(image, (2, 0, 1)) for image in data])\n",
    "    client_labels.append(labels)\n",
    "\n",
    "client_data = np.array(client_data, np.uint8)\n",
    "client_labels = np.array(client_labels, np.long)\n",
    "print(client_data.shape)\n",
    "\n",
    "# np.savez_compressed(os.path.join(root, 'CIFAR10_dataset'),\n",
    "#                     client_names=clients, data=client_data, labels=client_labels)"
   ],
   "metadata": {
    "collapsed": false,
    "pycharm": {
     "name": "#%%\n"
    }
   }
  },
  {
   "cell_type": "code",
   "execution_count": null,
   "outputs": [],
   "source": [
    "f = np.load(os.path.join(root, 'CIFAR10_dataset.npz'), allow_pickle=True)\n",
    "f['data'].shape"
   ],
   "metadata": {
    "collapsed": false,
    "pycharm": {
     "name": "#%%\n"
    }
   }
  },
  {
   "cell_type": "code",
   "execution_count": null,
   "outputs": [],
   "source": [
    "f['data'][0]"
   ],
   "metadata": {
    "collapsed": false,
    "pycharm": {
     "name": "#%%\n"
    }
   }
  }
 ],
 "metadata": {
  "kernelspec": {
   "name": "pycharm-b1f1b1d5",
   "language": "python",
   "display_name": "PyCharm (fedHet)"
  },
  "language_info": {
   "codemirror_mode": {
    "name": "ipython",
    "version": 2
   },
   "file_extension": ".py",
   "mimetype": "text/x-python",
   "name": "python",
   "nbconvert_exporter": "python",
   "pygments_lexer": "ipython2",
   "version": "2.7.6"
  }
 },
 "nbformat": 4,
 "nbformat_minor": 0
}